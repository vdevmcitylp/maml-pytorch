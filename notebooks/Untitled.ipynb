{
 "cells": [
  {
   "cell_type": "code",
   "execution_count": 1,
   "metadata": {
    "collapsed": false,
    "deletable": true,
    "editable": true
   },
   "outputs": [],
   "source": [
    "import sys\n",
    "sys.path.append('../')\n",
    "\n",
    "import torch\n",
    "import torch.nn as nn\n",
    "import torch.optim as optim\n",
    "\n",
    "import matplotlib.pyplot as plt\n",
    "\n",
    "from mamlpytorch.tasks.sinusoid_tasks import SinusoidTaskDistribution"
   ]
  },
  {
   "cell_type": "code",
   "execution_count": 2,
   "metadata": {
    "collapsed": true,
    "deletable": true,
    "editable": true
   },
   "outputs": [],
   "source": [
    "tasks = SinusoidTaskDistribution().sample_batch(1)"
   ]
  },
  {
   "cell_type": "code",
   "execution_count": 3,
   "metadata": {
    "collapsed": false,
    "deletable": true,
    "editable": true
   },
   "outputs": [
    {
     "data": {
      "image/png": "[encoded data removed]",
      "text/plain": [
       "<matplotlib.figure.Figure at 0x7f9571cac940>"
      ]
     },
     "metadata": {},
     "output_type": "display_data"
    }
   ],
   "source": [
    "x_spt, y_spt = tasks[0].sample_batch(10)\n",
    "x_qry, y_qry = tasks[0].sample_batch(10)\n",
    "plt.plot(x_spt.numpy(), y_spt.numpy(), 'ro')\n",
    "plt.plot(x_qry.numpy(), y_qry.numpy(), 'bo')\n",
    "plt.show()"
   ]
  },
  {
   "cell_type": "code",
   "execution_count": 4,
   "metadata": {
    "collapsed": false,
    "deletable": true,
    "editable": true
   },
   "outputs": [],
   "source": [
    "model = nn.Sequential(\n",
    "    nn.Linear(1,40),\n",
    "    nn.ReLU(),\n",
    "    nn.Linear(40,40),\n",
    "    nn.ReLU(),\n",
    "    nn.Linear(40,1)\n",
    ")\n",
    "\n",
    "optimizer = torch.optim.Adam(model.parameters(), lr=0.01)\n",
    "criterion = nn.MSELoss()"
   ]
  },
  {
   "cell_type": "code",
   "execution_count": 5,
   "metadata": {
    "collapsed": false,
    "deletable": true,
    "editable": true
   },
   "outputs": [],
   "source": [
    "import numpy as np\n",
    "\n",
    "losses = []\n",
    "\n",
    "for i in range(10000):\n",
    "    optimizer.zero_grad()\n",
    "    y_hat = model(x_spt)\n",
    "    loss = criterion(y_hat, y_spt)\n",
    "    loss.backward()\n",
    "    optimizer.step()\n",
    "    losses.append(loss.item())\n",
    "    \n",
    "    \n",
    "# plot the result\n",
    "x = np.linspace(-5, 5, 100)\n",
    "with torch.no_grad():\n",
    "    y_prime = model(torch.tensor(x, dtype=torch.float).view(-1, 1))\n",
    "    x_plot, y_plot = tasks[0].sample_batch(100)"
   ]
  },
  {
   "cell_type": "code",
   "execution_count": 6,
   "metadata": {
    "collapsed": false,
    "deletable": true,
    "editable": true
   },
   "outputs": [
    {
     "data": {
      "image/png": "[encoded data removed]",
      "text/plain": [
       "<matplotlib.figure.Figure at 0x7f9571cc2e80>"
      ]
     },
     "metadata": {},
     "output_type": "display_data"
    }
   ],
   "source": [
    "# plt.plot(x, y_prime.numpy(), 'ro')\n",
    "# plt.plot(x_plot.numpy(), y_plot.numpy(), 'bo')\n",
    "\n",
    "plt.plot(losses)\n",
    "plt.show()"
   ]
  },
  {
   "cell_type": "code",
   "execution_count": 8,
   "metadata": {
    "collapsed": true
   },
   "outputs": [],
   "source": [
    "from collections import OrderedDict"
   ]
  },
  {
   "cell_type": "code",
   "execution_count": 9,
   "metadata": {
    "collapsed": false,
    "deletable": true,
    "editable": true
   },
   "outputs": [
    {
     "data": {
      "text/plain": [
       "OrderedDict([('0.weight', Parameter containing:\n",
       "              tensor([[ 0.3639],\n",
       "                      [-0.3722],\n",
       "                      [ 0.4487],\n",
       "                      [ 0.9739],\n",
       "                      [ 0.1249],\n",
       "                      [ 0.4682],\n",
       "                      [ 0.1545],\n",
       "                      [ 0.3093],\n",
       "                      [-0.0355],\n",
       "                      [ 0.2089],\n",
       "                      [ 0.1473],\n",
       "                      [ 0.1155],\n",
       "                      [-0.5048],\n",
       "                      [ 1.0775],\n",
       "                      [ 0.0064],\n",
       "                      [ 0.2303],\n",
       "                      [-0.2500],\n",
       "                      [ 0.0296],\n",
       "                      [ 0.2666],\n",
       "                      [-0.4289],\n",
       "                      [ 0.2892],\n",
       "                      [ 0.3470],\n",
       "                      [ 0.7280],\n",
       "                      [-0.0822],\n",
       "                      [ 0.0874],\n",
       "                      [-0.0352],\n",
       "                      [-0.1119],\n",
       "                      [ 1.3448],\n",
       "                      [ 0.3378],\n",
       "                      [-0.2640],\n",
       "                      [ 0.1141],\n",
       "                      [ 1.1707],\n",
       "                      [ 0.0114],\n",
       "                      [ 1.2029],\n",
       "                      [-0.7700],\n",
       "                      [ 0.0261],\n",
       "                      [ 0.2744],\n",
       "                      [-0.3409],\n",
       "                      [ 0.3578],\n",
       "                      [-0.3184]])), ('0.bias', Parameter containing:\n",
       "              tensor([ 0.2065, -0.5176, -0.9829, -0.7723, -0.4097,  0.4092, -0.2747,\n",
       "                       0.9807, -0.8472, -0.1337, -0.7247, -0.6408, -1.1795, -0.2386,\n",
       "                      -0.2191,  0.4645, -0.2875, -0.0867,  0.2005, -0.9653,  1.1711,\n",
       "                       0.5946,  0.3016, -0.7938, -0.2733, -0.3012, -1.2986,  0.7083,\n",
       "                      -0.0998,  0.1363, -0.8707,  0.0309, -0.0989,  0.5377,  0.1413,\n",
       "                       0.5000,  1.1180, -0.1904,  0.1121, -0.0632])), ('2.weight',\n",
       "              Parameter containing:\n",
       "              tensor([[-1.1237e-01, -1.3134e-02, -1.1212e-01,  ..., -1.4310e-01,\n",
       "                       -1.4244e-01, -1.3865e-01],\n",
       "                      [-4.5606e-02, -7.3762e-04, -1.3580e-01,  ...,  8.8148e-02,\n",
       "                       -1.1994e-01, -1.0809e-01],\n",
       "                      [-1.0225e-01, -3.4786e-01, -3.9462e-02,  ..., -2.5395e-01,\n",
       "                       -7.4096e-01, -1.4738e-01],\n",
       "                      ...,\n",
       "                      [ 2.9430e-01, -1.0445e-01, -1.1013e-01,  ...,  1.8896e-03,\n",
       "                       -1.3906e-01,  1.4922e-01],\n",
       "                      [-1.1078e-01, -3.2807e-01,  7.3305e-02,  ..., -7.2523e-02,\n",
       "                       -1.7797e-01, -7.9049e-02],\n",
       "                      [ 4.8434e-02, -1.3173e-01, -1.8689e-02,  ..., -5.4300e-02,\n",
       "                       -1.0265e-01, -1.0505e-01]])), ('2.bias',\n",
       "              Parameter containing:\n",
       "              tensor([-0.0544,  0.1395, -0.0055,  0.0313, -0.0851, -0.1983, -0.0838,\n",
       "                       0.0719, -0.0388, -0.1706, -0.1913, -0.1054,  0.0299, -0.1235,\n",
       "                       0.0730,  0.1420, -0.2233, -0.4432, -0.2056,  0.0243,  0.2900,\n",
       "                      -0.1380, -0.0915,  0.1805, -0.1076, -0.0679, -0.2068,  0.1031,\n",
       "                       0.1196,  0.0693, -0.0441,  0.0068,  0.0292, -0.2997, -0.0103,\n",
       "                      -0.0174, -0.3885,  0.1321, -0.2320, -0.0939])), ('4.weight',\n",
       "              Parameter containing:\n",
       "              tensor([[-0.0315, -0.0574,  0.0412,  0.0314, -0.0968, -0.0375, -0.0586,\n",
       "                        0.0030,  0.0214, -0.0897,  0.0043, -0.0094,  0.1235,  0.1373,\n",
       "                        0.0071,  0.0148, -0.0045, -0.1830, -0.2279,  0.1558, -0.2121,\n",
       "                        0.2637,  0.0340,  0.0766, -0.0006,  0.0073,  0.2058, -0.0130,\n",
       "                        0.0015,  0.0248, -0.0059, -0.0028,  0.0159, -0.2025,  0.0748,\n",
       "                       -0.0585, -0.1452,  0.2615,  0.1912, -0.1344]])), ('4.bias',\n",
       "              Parameter containing:\n",
       "              tensor([-0.2114]))])"
      ]
     },
     "execution_count": 9,
     "metadata": {},
     "output_type": "execute_result"
    }
   ],
   "source": [
    "OrderedDict(model.named_parameters())"
   ]
  }
 ],
 "metadata": {
  "kernelspec": {
   "display_name": "Python 3",
   "language": "python",
   "name": "python3"
  },
  "language_info": {
   "codemirror_mode": {
    "name": "ipython",
    "version": 3
   },
   "file_extension": ".py",
   "mimetype": "text/x-python",
   "name": "python",
   "nbconvert_exporter": "python",
   "pygments_lexer": "ipython3",
   "version": "3.5.2"
  }
 },
 "nbformat": 4,
 "nbformat_minor": 2
}
